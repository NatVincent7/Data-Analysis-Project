{
 "cells": [
  {
   "cell_type": "markdown",
   "id": "4729fab7-83c5-4e9f-85d9-885affc97562",
   "metadata": {},
   "source": [
    "# Inferential Statistics & Hypothesis Testing #"
   ]
  },
  {
   "cell_type": "markdown",
   "id": "895d6e86-18d4-409d-b4ec-d7ae3148b667",
   "metadata": {},
   "source": [
    "## Formulate Hypotheses: ##\n",
    "\n",
    "**Hypothesis 1:**\n",
    "\n",
    "**H₀:** There is no significant difference in average transaction revenue between new and returning users.\n",
    "\n",
    "**H₁:** There is a significant difference in average transaction revenue between new and returning users.\n",
    "\n",
    "**Hypothesis 2:**\n",
    "\n",
    "**H₀:** No significant difference in transaction revenue across device categories.\n",
    "\n",
    "**H₁:** A significant difference exists in transaction revenue across device categories.\n",
    "\n",
    "**Hypothesis 3:**\n",
    "\n",
    "**H₀:** Device category and user type are independent.\n",
    "\n",
    "**H₁:** Device category and use type are associated."
   ]
  },
  {
   "cell_type": "markdown",
   "id": "bc1406df-fb5e-4c61-a995-d0aedb5e27b6",
   "metadata": {},
   "source": [
    "## Data Preparation ##"
   ]
  },
  {
   "cell_type": "code",
   "execution_count": 4,
   "id": "239a6d68-1d78-4406-89f1-2b4b54512fae",
   "metadata": {},
   "outputs": [
    {
     "name": "stdout",
     "output_type": "stream",
     "text": [
      "         fullVisitorId     visitId  visitNumber  total_transactions  \\\n",
      "0  3418334011779872055  1501591568            1                   0   \n",
      "1  2474397855041322408  1501589647            2                   0   \n",
      "2  5870462820713110108  1501616621            1                   0   \n",
      "3  9397809171349480379  1501601200            1                   0   \n",
      "4  6089902943184578335  1501615525            1                   0   \n",
      "\n",
      "   transaction_revenue  time_on_site        traffic_source    medium  \\\n",
      "0                  0.0             0              (direct)    (none)   \n",
      "1                  0.0             0  analytics.google.com  referral   \n",
      "2                  0.0             0  analytics.google.com  referral   \n",
      "3                  0.0             0  analytics.google.com  referral   \n",
      "4                  0.0             0    adwords.google.com  referral   \n",
      "\n",
      "  device_category  \n",
      "0         desktop  \n",
      "1         desktop  \n",
      "2         desktop  \n",
      "3         desktop  \n",
      "4         desktop  \n",
      "         fullVisitorId  visitNumber  transaction_revenue device_category  \\\n",
      "0  3418334011779872055            1                  0.0         desktop   \n",
      "1  2474397855041322408            2                  0.0         desktop   \n",
      "2  5870462820713110108            1                  0.0         desktop   \n",
      "3  9397809171349480379            1                  0.0         desktop   \n",
      "4  6089902943184578335            1                  0.0         desktop   \n",
      "\n",
      "   user_type  \n",
      "0        New  \n",
      "1  Returning  \n",
      "2        New  \n",
      "3        New  \n",
      "4        New  \n"
     ]
    }
   ],
   "source": [
    "import pandas as pd\n",
    "import numpy as np\n",
    "\n",
    "# Load data from the CSV file exported from BigQuery\n",
    "path = \"C:/Users/Jonat/DataProject/CLV and Customer Segmentation/hypothesis_testing.csv\"\n",
    "df = pd.read_csv(path)\n",
    "\n",
    "# Display the first few rows to verify the data structure\n",
    "print(df.head())\n",
    "\n",
    "# Remove rows with missing critical values for analysis (transaction_revenue and time_on_site)\n",
    "df.dropna(subset=['transaction_revenue', 'time_on_site'])\n",
    "\n",
    "# Ensure transaction_revenue is numeric and change it with log transformation\n",
    "df['transaction_revenue'] = pd.to_numeric(df['transaction_revenue'])\n",
    "df['log_revenue'] = np.log1p(df['transaction_revenue'])\n",
    "\n",
    "# Create a categorial cariable 'user_type' based on total_visits\n",
    "df['user_type'] = df['visitNumber'].apply(lambda x: 'New' if x == 1 else 'Returning')\n",
    "\n",
    "# Inspects the resulting DataFrame\n",
    "print(df[['fullVisitorId', 'visitNumber', 'transaction_revenue', 'device_category', 'user_type']].head())"
   ]
  },
  {
   "cell_type": "markdown",
   "id": "be5b4503-b0fd-400c-ad22-031d9bdcc634",
   "metadata": {},
   "source": [
    "## Conduct statistical Tests ##"
   ]
  },
  {
   "cell_type": "markdown",
   "id": "a65cc70c-da89-4d7d-8e0f-597eba7efba1",
   "metadata": {},
   "source": [
    "### A. T-Test: New vs. Returning Users ###"
   ]
  },
  {
   "cell_type": "code",
   "execution_count": 7,
   "id": "410087dd-69af-4950-a4f4-61deb13f72c4",
   "metadata": {},
   "outputs": [
    {
     "name": "stdout",
     "output_type": "stream",
     "text": [
      "T-test Statistic: -4.939448852768216, P-Value: 9.735152981955357e-07\n"
     ]
    }
   ],
   "source": [
    "from scipy.stats import ttest_ind\n",
    "\n",
    "# Seperate transaction revenue for new and returning users\n",
    "new_users = df[df['user_type'] == 'New']['log_revenue']\n",
    "returning_users = df[df['user_type'] == 'Returning']['log_revenue']\n",
    "\n",
    "# Perform t-test assuming unequal variances\n",
    "t_stat, p_value = ttest_ind(new_users, returning_users, equal_var=False)\n",
    "print(f\"T-test Statistic: {t_stat}, P-Value: {p_value}\")"
   ]
  },
  {
   "cell_type": "markdown",
   "id": "b035583c-60ad-4a3f-9dc8-2c6380229899",
   "metadata": {},
   "source": [
    "Interpretation: A p-value below 0.05 indicates a significant difference in average transaction revenue betweeen new and returning users."
   ]
  },
  {
   "cell_type": "markdown",
   "id": "eaab1096-52b3-4c85-8ea7-aeb6ec5dc18c",
   "metadata": {},
   "source": [
    "### B. ANOVA: Transaction Revenue Across Device Categories ###"
   ]
  },
  {
   "cell_type": "code",
   "execution_count": 10,
   "id": "4583f30e-d718-44a1-a8a3-1c490f8a5941",
   "metadata": {},
   "outputs": [
    {
     "name": "stdout",
     "output_type": "stream",
     "text": [
      "F-test Statistic: 7.93782142946307, P-Value: 0.00036586619073722474\n",
      "<pandas.core.groupby.generic.DataFrameGroupBy object at 0x0000024422ABD8E0>\n"
     ]
    }
   ],
   "source": [
    "from scipy.stats import f_oneway\n",
    "\n",
    "mobile_revenue = df[df['device_category'] == 'mobile']['log_revenue']\n",
    "desktop_revenue = df[df['device_category'] == 'desktop']['log_revenue']\n",
    "tablet_revenue = df[df['device_category'] == 'tablet']['log_revenue']\n",
    "\n",
    "# Perform ANOVA\n",
    "f_stat, p_value = f_oneway(mobile_revenue, desktop_revenue, tablet_revenue)\n",
    "print(f\"F-test Statistic: {f_stat}, P-Value: {p_value}\")\n",
    "a = df.groupby('device_category')\n",
    "print(a)"
   ]
  },
  {
   "cell_type": "markdown",
   "id": "b3bdf75a-cc20-4b90-83d2-2d0a2a41beef",
   "metadata": {},
   "source": [
    "Interpretation: A significant p-value (p < 0.05) implies that transaction revenue varies by device category."
   ]
  },
  {
   "cell_type": "markdown",
   "id": "14d13697-f360-4af4-9e40-32dfbce2698b",
   "metadata": {},
   "source": [
    "### C. Chi-Square Test: Device Category vs. User Type"
   ]
  },
  {
   "cell_type": "code",
   "execution_count": 13,
   "id": "e28064e0-66ab-43e0-882a-ec72e0f4c496",
   "metadata": {},
   "outputs": [
    {
     "name": "stdout",
     "output_type": "stream",
     "text": [
      "Contigency table: user_type         New  Returning\n",
      "device_category                 \n",
      "desktop          1222        520\n",
      "mobile            580        145\n",
      "tablet             70         19\n",
      " Chi-Square Statictic: 26.724478073626763, P-Value: 1.5734513538415369e-06\n"
     ]
    }
   ],
   "source": [
    "from scipy.stats import chi2_contingency \n",
    "\n",
    "# Create a Contingency Table\n",
    "contingency_table = pd.crosstab(df['device_category'], df['user_type'])\n",
    "print(f\"Contigency table: {contingency_table}\")\n",
    "\n",
    "# Run Chi-square test\n",
    "chi2, p, dof, expected = chi2_contingency(contingency_table)\n",
    "print(f\" Chi-Square Statictic: {chi2}, P-Value: {p}\")"
   ]
  },
  {
   "cell_type": "code",
   "execution_count": 14,
   "id": "5febda18-46e2-4e71-a423-5a42722b55fc",
   "metadata": {},
   "outputs": [],
   "source": [
    "df.to_csv('engineered_dataset.csv', index=False)"
   ]
  }
 ],
 "metadata": {
  "kernelspec": {
   "display_name": "Python 3 (ipykernel)",
   "language": "python",
   "name": "python3"
  },
  "language_info": {
   "codemirror_mode": {
    "name": "ipython",
    "version": 3
   },
   "file_extension": ".py",
   "mimetype": "text/x-python",
   "name": "python",
   "nbconvert_exporter": "python",
   "pygments_lexer": "ipython3",
   "version": "3.12.7"
  }
 },
 "nbformat": 4,
 "nbformat_minor": 5
}
